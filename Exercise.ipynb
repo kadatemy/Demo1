{
  "nbformat": 4,
  "nbformat_minor": 0,
  "metadata": {
    "colab": {
      "name": "Exercise.ipynb",
      "provenance": [],
      "authorship_tag": "ABX9TyOoEUrSl//+8CYbCrRxD81u",
      "include_colab_link": true
    },
    "kernelspec": {
      "name": "python3",
      "display_name": "Python 3"
    },
    "language_info": {
      "name": "python"
    }
  },
  "cells": [
    {
      "cell_type": "markdown",
      "metadata": {
        "id": "view-in-github",
        "colab_type": "text"
      },
      "source": [
        "<a href=\"https://colab.research.google.com/github/kadatemy/Demo1/blob/main/Exercise.ipynb\" target=\"_parent\"><img src=\"https://colab.research.google.com/assets/colab-badge.svg\" alt=\"Open In Colab\"/></a>"
      ]
    },
    {
      "cell_type": "code",
      "metadata": {
        "id": "ezKoBNfNoUEJ"
      },
      "source": [
        " class country:\n",
        "  def __init__(self, location, population, landmass, government):\n",
        "    self.location = location\n",
        "    self.population = population\n",
        "    self.landmass = landmass\n",
        "    self.government = government\n",
        " \n",
        "  \n",
        "\n",
        "  def info():\n",
        "      print(\"Zamunda is located at  \" + self.location + \" with total population of  \" + self.population + \" and landmass of \" + landmass + \" with \" + government + \" as type of government \")\n",
        "\n",
        "Z = country(\"Wakanda\", 500,000, 200,800, \"monarchy\")\n",
        "\n",
        "\n",
        "print(Z)"
      ],
      "execution_count": null,
      "outputs": []
    },
    {
      "cell_type": "code",
      "metadata": {
        "id": "pBc6RcJEqgp0"
      },
      "source": [
        ""
      ],
      "execution_count": null,
      "outputs": []
    }
  ]
}